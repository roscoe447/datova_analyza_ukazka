{
 "cells": [
  {
   "cell_type": "markdown",
   "id": "10506df3-db74-40fd-8545-8e5a2a6973ff",
   "metadata": {},
   "source": [
    "## Python programovanie : základné úlohy\n",
    "---\n",
    "####Tento notebook slúži ako ukážka základných znalosti v oblasti programovania"
   ]
  },
  {
   "cell_type": "markdown",
   "id": "5ded55d7-dcb9-4bab-914c-844ffeb32cbd",
   "metadata": {},
   "source": [
    "## Premenné a ich výpis \n",
    "---\n",
    "##### Znázornujeme akým spôsobom môžme pracovať s premennými"
   ]
  },
  {
   "cell_type": "code",
   "execution_count": 4,
   "id": "970f0f6b-0f7f-4efa-ba43-22a3b1dc4298",
   "metadata": {},
   "outputs": [
    {
     "name": "stdout",
     "output_type": "stream",
     "text": [
      " Ahoj Peter Novotný, ako sa maš?\n"
     ]
    }
   ],
   "source": [
    "meno=\"Peter\"\n",
    "priezvysko= \"Novotný\"\n",
    "\n",
    "print(f\" Ahoj {meno} {priezvysko}, ako sa maš?\")"
   ]
  },
  {
   "cell_type": "code",
   "execution_count": 5,
   "id": "b6d14b71-12b2-4439-91e4-d5843d8ae55f",
   "metadata": {},
   "outputs": [
    {
     "name": "stdout",
     "output_type": "stream",
     "text": [
      " Koľko filmov má v databáze Netflix? Podľa môjho názoru ich je približne 1200\n"
     ]
    }
   ],
   "source": [
    "platforma= \"Netflix\"\n",
    "pocet_filmov = 1200\n",
    "\n",
    "print(f\" Koľko filmov má v databáze {platforma}? Podľa môjho názoru ich je približne {pocet_filmov}\")"
   ]
  },
  {
   "cell_type": "markdown",
   "id": "e226152d-207c-4b5b-a6a9-722a701d9d80",
   "metadata": {},
   "source": [
    "## Podmienky\n",
    "---\n",
    "##### Využívanie podmienok na praktickom príklade "
   ]
  },
  {
   "cell_type": "code",
   "execution_count": 15,
   "id": "24955444-8b36-4cd6-9ed5-2275b8dd92f4",
   "metadata": {},
   "outputs": [],
   "source": [
    "vek_občanov= 18\n",
    "vek_občanov_2= 17"
   ]
  },
  {
   "cell_type": "code",
   "execution_count": 9,
   "id": "c80bb148-898c-4808-be06-55d28b8523ea",
   "metadata": {},
   "outputs": [
    {
     "name": "stdout",
     "output_type": "stream",
     "text": [
      "plnoletý občan\n"
     ]
    }
   ],
   "source": [
    "if vek_občanov < 18:\n",
    "    print (\"plnoletý občan\")\n",
    "else:\n",
    "    print (\"neplnoletý občan\")"
   ]
  },
  {
   "cell_type": "code",
   "execution_count": 17,
   "id": "d51cfabd-f0a6-43b6-b249-447a9891de1e",
   "metadata": {},
   "outputs": [
    {
     "name": "stdout",
     "output_type": "stream",
     "text": [
      "občan ma viac ako 17\n"
     ]
    }
   ],
   "source": [
    "if vek_občanov_2 > 17:\n",
    "    print (\"občan je teeneger\")\n",
    "else:\n",
    "    print(\"občan ma viac ako 17\")"
   ]
  },
  {
   "cell_type": "markdown",
   "id": "a53cd52a-cbf4-4d08-b428-19fcccc0d6f0",
   "metadata": {},
   "source": [
    "## Praktické využitie cyklus for:\n",
    "##### Malá násobilka "
   ]
  },
  {
   "cell_type": "code",
   "execution_count": 18,
   "id": "203c87f7-b487-4582-bb85-60b591797873",
   "metadata": {},
   "outputs": [],
   "source": [
    "number= range(0,21)"
   ]
  },
  {
   "cell_type": "code",
   "execution_count": 34,
   "id": "440e8e97-8317-4042-8d40-aebed3ff1897",
   "metadata": {},
   "outputs": [
    {
     "name": "stdout",
     "output_type": "stream",
     "text": [
      "1 2 3 4 5 6 7 8 9 10 "
     ]
    }
   ],
   "source": [
    "for number in range(1, 11):\n",
    "    print(number,end=\" \" )"
   ]
  },
  {
   "cell_type": "code",
   "execution_count": 33,
   "id": "b9520106-3eac-44b3-a67c-a12fad540340",
   "metadata": {},
   "outputs": [
    {
     "name": "stdout",
     "output_type": "stream",
     "text": [
      "2 4 6 8 10 12 14 16 18 20 "
     ]
    }
   ],
   "source": [
    "for number in range(1,11):\n",
    "    print(number*2,end=\" \" )"
   ]
  },
  {
   "cell_type": "code",
   "execution_count": 26,
   "id": "47a3285a-e08f-4712-bb31-0fa3e0c3b831",
   "metadata": {},
   "outputs": [
    {
     "name": "stdout",
     "output_type": "stream",
     "text": [
      "3 6 9 12 15 18 21 24 27 30 "
     ]
    }
   ],
   "source": [
    "for number in range(1,11):\n",
    "    print(number*3,end=\" \" )"
   ]
  },
  {
   "cell_type": "code",
   "execution_count": 27,
   "id": "5e7f9d27-7a79-45ef-95e8-a295bdb4f9b1",
   "metadata": {},
   "outputs": [
    {
     "name": "stdout",
     "output_type": "stream",
     "text": [
      "4 8 12 16 20 24 28 32 36 40 "
     ]
    }
   ],
   "source": [
    "for number in range(1,11):\n",
    "    print(number*4,end=\" \" )"
   ]
  },
  {
   "cell_type": "code",
   "execution_count": 28,
   "id": "6565a758-5898-4d2a-86d4-0dee6549a2eb",
   "metadata": {},
   "outputs": [
    {
     "name": "stdout",
     "output_type": "stream",
     "text": [
      "5 10 15 20 25 30 35 40 45 50 "
     ]
    }
   ],
   "source": [
    "for number in range(1,11):\n",
    "    print(number*5,end=\" \" )"
   ]
  },
  {
   "cell_type": "code",
   "execution_count": 29,
   "id": "6c3e572e-e7de-4d76-bfbb-134237fc1b62",
   "metadata": {},
   "outputs": [
    {
     "name": "stdout",
     "output_type": "stream",
     "text": [
      "6 12 18 24 30 36 42 48 54 60 "
     ]
    }
   ],
   "source": [
    "for number in range(1,11):\n",
    "    print(number*6,end=\" \" )"
   ]
  },
  {
   "cell_type": "code",
   "execution_count": 30,
   "id": "4be7f111-6633-4a4c-a237-e2231360acc0",
   "metadata": {},
   "outputs": [
    {
     "name": "stdout",
     "output_type": "stream",
     "text": [
      "7 14 21 28 35 42 49 56 63 70 "
     ]
    }
   ],
   "source": [
    "for number in range(1,11):\n",
    "    print(number*7,end=\" \" )"
   ]
  },
  {
   "cell_type": "code",
   "execution_count": 31,
   "id": "0d5d9a6e-5911-43e3-bf19-6032c605524c",
   "metadata": {},
   "outputs": [
    {
     "name": "stdout",
     "output_type": "stream",
     "text": [
      "8 16 24 32 40 48 56 64 72 80 "
     ]
    }
   ],
   "source": [
    "for number in range(1,11):\n",
    "    print(number*8,end=\" \" )"
   ]
  },
  {
   "cell_type": "code",
   "execution_count": 32,
   "id": "df484a47-9311-4061-a0c0-d77008502580",
   "metadata": {},
   "outputs": [
    {
     "name": "stdout",
     "output_type": "stream",
     "text": [
      "9 18 27 36 45 54 63 72 81 90 "
     ]
    }
   ],
   "source": [
    "for number in range(1,11):\n",
    "    print(number*9,end=\" \" )"
   ]
  },
  {
   "cell_type": "markdown",
   "id": "46b14358-82da-42e0-be4c-c4b25fae0c9c",
   "metadata": {},
   "source": [
    "## Vytvorenie jednoduchého denníka:\n",
    "---"
   ]
  },
  {
   "cell_type": "code",
   "execution_count": 35,
   "id": "e89ccf58-42b9-4d37-90d4-09b140add923",
   "metadata": {},
   "outputs": [],
   "source": [
    "moj_dennik= {\n",
    "    \"meno\" : \"Peter\",\n",
    "    \"priezvysko\" : \"Novotný\",\n",
    "    \"bydlisko\" : \"Prešov\",\n",
    "    \"adresa\" : \"Sečovská\",\n",
    "    \"čislo domu\" : \"142/6\"\n",
    "}\n"
   ]
  },
  {
   "cell_type": "code",
   "execution_count": 37,
   "id": "f83c1b4c-c6b2-4a8c-94c2-bc547811bfa8",
   "metadata": {},
   "outputs": [
    {
     "name": "stdout",
     "output_type": "stream",
     "text": [
      "{'meno': 'Peter', 'priezvysko': 'Novotný', 'bydlisko': 'Prešov', 'adresa': 'Sečovská', 'čislo domu': '142/6'}\n"
     ]
    }
   ],
   "source": [
    "print (moj_dennik)"
   ]
  },
  {
   "cell_type": "code",
   "execution_count": 45,
   "id": "26428dfb-0094-496b-a9b0-e09e62c21729",
   "metadata": {},
   "outputs": [
    {
     "name": "stdout",
     "output_type": "stream",
     "text": [
      "{'meno': 'Peter', 'priezvysko': 'Novotný', 'bydlisko': 'Prešov', 'adresa': 'Sečovská', 'čislo domu': '142/6', 'Peter': 'JANO'}\n"
     ]
    }
   ],
   "source": [
    "moj_dennik[\"Peter\"]=\"JANO\"\n",
    "print (moj_dennik)  # na koniec dennika doplníme slovo"
   ]
  },
  {
   "cell_type": "code",
   "execution_count": null,
   "id": "aeefab59-8288-4ae6-a0ff-f45e246cd25c",
   "metadata": {},
   "outputs": [],
   "source": []
  }
 ],
 "metadata": {
  "kernelspec": {
   "display_name": "Python 3 (ipykernel)",
   "language": "python",
   "name": "python3"
  },
  "language_info": {
   "codemirror_mode": {
    "name": "ipython",
    "version": 3
   },
   "file_extension": ".py",
   "mimetype": "text/x-python",
   "name": "python",
   "nbconvert_exporter": "python",
   "pygments_lexer": "ipython3",
   "version": "3.13.2"
  }
 },
 "nbformat": 4,
 "nbformat_minor": 5
}
